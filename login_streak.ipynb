{
  "nbformat": 4,
  "nbformat_minor": 0,
  "metadata": {
    "colab": {
      "name": "login_streak.ipynb",
      "provenance": [],
      "collapsed_sections": [],
      "authorship_tag": "ABX9TyNZOwbWZJM+jnwj7luxI6XB",
      "include_colab_link": true
    },
    "kernelspec": {
      "name": "python3",
      "display_name": "Python 3"
    }
  },
  "cells": [
    {
      "cell_type": "markdown",
      "metadata": {
        "id": "view-in-github",
        "colab_type": "text"
      },
      "source": [
        "<a href=\"https://colab.research.google.com/github/cht123/Login-streak-calculator/blob/master/login_streak.ipynb\" target=\"_parent\"><img src=\"https://colab.research.google.com/assets/colab-badge.svg\" alt=\"Open In Colab\"/></a>"
      ]
    },
    {
      "cell_type": "markdown",
      "metadata": {
        "id": "0ob6pxLQ_4bb",
        "colab_type": "text"
      },
      "source": [
        "# Load Spark"
      ]
    },
    {
      "cell_type": "code",
      "metadata": {
        "id": "Vz1RMeN6NOmt",
        "colab_type": "code",
        "colab": {}
      },
      "source": [
        "!apt-get install openjdk-8-jdk-headless -qq > /dev/null\n",
        "!wget -q http://www-eu.apache.org/dist/spark/spark-2.4.4/spark-2.4.4-bin-hadoop2.7.tgz\n",
        "!tar xf spark-2.4.4-bin-hadoop2.7.tgz\n",
        "!pip install -q findspark"
      ],
      "execution_count": 0,
      "outputs": []
    },
    {
      "cell_type": "code",
      "metadata": {
        "id": "Dit__ynAN4Xg",
        "colab_type": "code",
        "colab": {}
      },
      "source": [
        "import os\n",
        "os.environ[\"JAVA_HOME\"] = \"/usr/lib/jvm/java-8-openjdk-amd64\"\n",
        "os.environ[\"SPARK_HOME\"] = \"/content/spark-2.4.4-bin-hadoop2.7\""
      ],
      "execution_count": 0,
      "outputs": []
    },
    {
      "cell_type": "code",
      "metadata": {
        "id": "UbgYkdu8OAz3",
        "colab_type": "code",
        "colab": {}
      },
      "source": [
        "import findspark\n",
        "findspark.init()\n",
        "from pyspark.sql import SparkSession\n",
        "spark = SparkSession.builder.master(\"local[*]\").getOrCreate()"
      ],
      "execution_count": 0,
      "outputs": []
    },
    {
      "cell_type": "code",
      "metadata": {
        "id": "zgrci9SKhyRW",
        "colab_type": "code",
        "colab": {}
      },
      "source": [
        "from pyspark.sql.functions import to_date, floor\n",
        "import pyspark.sql.functions as F\n",
        "from pyspark.sql.window import Window\n"
      ],
      "execution_count": 0,
      "outputs": []
    },
    {
      "cell_type": "markdown",
      "metadata": {
        "id": "_T--ojfgABNo",
        "colab_type": "text"
      },
      "source": [
        "# Purpose\n",
        "\n",
        "The purpose of this notebook is to define an approach for monitoring monthly login streaks for customers.  \n",
        "\n",
        "1. The period is monthly\n",
        "2. A streak is only extended when logins happen in consecutive months\n"
      ]
    },
    {
      "cell_type": "markdown",
      "metadata": {
        "id": "pYdTAYM4A3hB",
        "colab_type": "text"
      },
      "source": [
        "# Method\n",
        "\n",
        "1. The month being evaluated is the reference month for all other months in the dataset. It is the main input parameter for the process.  The reference day is the last day of the reference month.\n",
        "2. Create a column date_diff which is calculated as the floor of the rounded difference between the reference month's last day and the login date for each customer.  This is calle the reference day.\n",
        "3. Filter all logins that occur a after the reference day.  These will have a negative date_diff.\n",
        "4. Do a distinct on customer and date_diff.  This will provide a consecutive integer for each prior month the customer has logged in.\n",
        "5. Partition by customer and do a count and a row count\n",
        "6. create a flag (good flag) that indicates whether the date_diff = the row count.  If the logins are consecutive then they will be equal.\n",
        "7. Get the max of the count for a customer where the good flag = 1.  This is the length of the customers login streak. "
      ]
    },
    {
      "cell_type": "markdown",
      "metadata": {
        "id": "jgMR_-sLo7UO",
        "colab_type": "text"
      },
      "source": [
        "# Create the counts step by step"
      ]
    },
    {
      "cell_type": "markdown",
      "metadata": {
        "id": "C3BQFtpT_88f",
        "colab_type": "text"
      },
      "source": [
        "## Create Sample Dataframe"
      ]
    },
    {
      "cell_type": "code",
      "metadata": {
        "id": "Wqp8VvMqXIKG",
        "colab_type": "code",
        "colab": {}
      },
      "source": [
        "hbdf = spark.createDataFrame([('27-DEC-19','A',), \n",
        "                            ('15-DEC-19','A',),\n",
        "                            ('23-NOV-19','A',),\n",
        "                            ('15-OCT-19','A',),\n",
        "                            ('12-DEC-19','B',),\n",
        "                            ('07-DEC-19','B',),\n",
        "                            ('03-NOV-19','B',),\n",
        "                            ('15-NOV-19','B',),\n",
        "                            ('18-NOV-19','C',),\n",
        "                            ('18-OCT-19','C',),\n",
        "                            ('18-DEC-19','D',),\n",
        "                            ('18-OCT-19','D',),\n",
        "                            ('18-AUG-19','D',),\n",
        "                            ('23-DEC-19','K',),\n",
        "                            ('24-NOV-19','K',),\n",
        "                            ('06-OCT-19','K',),\n",
        "                            ('11-SEP-19','K',),\n",
        "                            ('13-AUG-19','K',),\n",
        "                            ('13-JAN-19','K',)\n",
        "                            ], X C['LOGIN_STRING', 'cust'])\n"
      ],
      "execution_count": 0,
      "outputs": []
    },
    {
      "cell_type": "markdown",
      "metadata": {
        "id": "cgMNFkPUo1xO",
        "colab_type": "text"
      },
      "source": [
        "## Fix the date"
      ]
    },
    {
      "cell_type": "code",
      "metadata": {
        "id": "Nly7U8yuh3tK",
        "colab_type": "code",
        "colab": {}
      },
      "source": [
        "# convert the login date to a date type\n",
        "df = df.withColumn('LOGIN_DATE', F.to_date(df.LOGIN_STRING, 'dd-MMM-yy'))"
      ],
      "execution_count": 0,
      "outputs": []
    },
    {
      "cell_type": "code",
      "metadata": {
        "id": "_WmO_F-2Z12C",
        "colab_type": "code",
        "colab": {}
      },
      "source": [
        "df = df.drop('LOGIN_STRING')"
      ],
      "execution_count": 0,
      "outputs": []
    },
    {
      "cell_type": "code",
      "metadata": {
        "id": "o52duqVAanva",
        "colab_type": "code",
        "outputId": "55ebb635-214e-479f-d65c-8040b2418f51",
        "colab": {
          "base_uri": "https://localhost:8080/",
          "height": 425
        }
      },
      "source": [
        "df.show()"
      ],
      "execution_count": 0,
      "outputs": [
        {
          "output_type": "stream",
          "text": [
            "+----+----------+\n",
            "|cust|LOGIN_DATE|\n",
            "+----+----------+\n",
            "|   A|2019-12-27|\n",
            "|   A|2019-12-15|\n",
            "|   A|2019-11-23|\n",
            "|   A|2019-10-15|\n",
            "|   B|2019-12-12|\n",
            "|   B|2019-12-07|\n",
            "|   B|2019-11-03|\n",
            "|   B|2019-11-15|\n",
            "|   C|2019-11-18|\n",
            "|   C|2019-10-18|\n",
            "|   D|2019-12-18|\n",
            "|   D|2019-10-18|\n",
            "|   D|2019-08-18|\n",
            "|   K|2019-12-23|\n",
            "|   K|2019-11-24|\n",
            "|   K|2019-10-06|\n",
            "|   K|2019-09-11|\n",
            "|   K|2019-08-13|\n",
            "|   K|2019-01-13|\n",
            "+----+----------+\n",
            "\n"
          ],
          "name": "stdout"
        }
      ]
    },
    {
      "cell_type": "markdown",
      "metadata": {
        "id": "bcaoN8_tpFln",
        "colab_type": "text"
      },
      "source": [
        "## Calculate the streak"
      ]
    },
    {
      "cell_type": "code",
      "metadata": {
        "id": "GmTKISqT1HzF",
        "colab_type": "code",
        "colab": {}
      },
      "source": [
        "# get the date diff from the reference start_date\n",
        "start_date = \"2019-12-31\"\n",
        "df = df.withColumn('date_diff', floor(F.months_between( to_date(F.lit(start_date)), df.LOGIN_DATE)))"
      ],
      "execution_count": 0,
      "outputs": []
    },
    {
      "cell_type": "code",
      "metadata": {
        "id": "lkltuaYP2WWK",
        "colab_type": "code",
        "outputId": "b89993f5-f546-48f9-98f8-0644f1bc05bc",
        "colab": {
          "base_uri": "https://localhost:8080/",
          "height": 425
        }
      },
      "source": [
        "df.show()"
      ],
      "execution_count": 0,
      "outputs": [
        {
          "output_type": "stream",
          "text": [
            "+----+----------+---------+\n",
            "|cust|LOGIN_DATE|date_diff|\n",
            "+----+----------+---------+\n",
            "|   A|2019-12-27|        0|\n",
            "|   A|2019-12-15|        0|\n",
            "|   A|2019-11-23|        1|\n",
            "|   A|2019-10-15|        2|\n",
            "|   B|2019-12-12|        0|\n",
            "|   B|2019-12-07|        0|\n",
            "|   B|2019-11-03|        1|\n",
            "|   B|2019-11-15|        1|\n",
            "|   C|2019-11-18|        1|\n",
            "|   C|2019-10-18|        2|\n",
            "|   D|2019-12-18|        0|\n",
            "|   D|2019-10-18|        2|\n",
            "|   D|2019-08-18|        4|\n",
            "|   K|2019-12-23|        0|\n",
            "|   K|2019-11-24|        1|\n",
            "|   K|2019-10-06|        2|\n",
            "|   K|2019-09-11|        3|\n",
            "|   K|2019-08-13|        4|\n",
            "|   K|2019-01-13|       11|\n",
            "+----+----------+---------+\n",
            "\n"
          ],
          "name": "stdout"
        }
      ]
    },
    {
      "cell_type": "code",
      "metadata": {
        "id": "r6Wrrc8y2rVG",
        "colab_type": "code",
        "colab": {}
      },
      "source": [
        "# remove logins that occur after the reference date\n",
        "df = df.filter(df['date_diff'] >= 0)"
      ],
      "execution_count": 0,
      "outputs": []
    },
    {
      "cell_type": "code",
      "metadata": {
        "id": "Oig3JoDO6TGG",
        "colab_type": "code",
        "outputId": "bd97dc80-f9ae-4707-c509-7611ef9dd5b4",
        "colab": {
          "base_uri": "https://localhost:8080/",
          "height": 425
        }
      },
      "source": [
        "df.show()"
      ],
      "execution_count": 0,
      "outputs": [
        {
          "output_type": "stream",
          "text": [
            "+----+----------+---------+\n",
            "|cust|LOGIN_DATE|date_diff|\n",
            "+----+----------+---------+\n",
            "|   A|2019-12-27|        0|\n",
            "|   A|2019-12-15|        0|\n",
            "|   A|2019-11-23|        1|\n",
            "|   A|2019-10-15|        2|\n",
            "|   B|2019-12-12|        0|\n",
            "|   B|2019-12-07|        0|\n",
            "|   B|2019-11-03|        1|\n",
            "|   B|2019-11-15|        1|\n",
            "|   C|2019-11-18|        1|\n",
            "|   C|2019-10-18|        2|\n",
            "|   D|2019-12-18|        0|\n",
            "|   D|2019-10-18|        2|\n",
            "|   D|2019-08-18|        4|\n",
            "|   K|2019-12-23|        0|\n",
            "|   K|2019-11-24|        1|\n",
            "|   K|2019-10-06|        2|\n",
            "|   K|2019-09-11|        3|\n",
            "|   K|2019-08-13|        4|\n",
            "|   K|2019-01-13|       11|\n",
            "+----+----------+---------+\n",
            "\n"
          ],
          "name": "stdout"
        }
      ]
    },
    {
      "cell_type": "code",
      "metadata": {
        "id": "XiobDa8N6jG_",
        "colab_type": "code",
        "colab": {}
      },
      "source": [
        "# get the disting login months relative to the reference date\n",
        "df = df.select('cust', 'date_diff').distinct().orderBy(*['cust', 'date_diff'])"
      ],
      "execution_count": 0,
      "outputs": []
    },
    {
      "cell_type": "code",
      "metadata": {
        "id": "aZumvz7d6YRa",
        "colab_type": "code",
        "outputId": "14a53037-e7f8-4c48-d7a4-690f7006b5e8",
        "colab": {
          "base_uri": "https://localhost:8080/",
          "height": 374
        }
      },
      "source": [
        "df.show()"
      ],
      "execution_count": 0,
      "outputs": [
        {
          "output_type": "stream",
          "text": [
            "+----+---------+\n",
            "|cust|date_diff|\n",
            "+----+---------+\n",
            "|   A|        0|\n",
            "|   A|        1|\n",
            "|   A|        2|\n",
            "|   B|        0|\n",
            "|   B|        1|\n",
            "|   C|        1|\n",
            "|   C|        2|\n",
            "|   D|        0|\n",
            "|   D|        2|\n",
            "|   D|        4|\n",
            "|   K|        0|\n",
            "|   K|        1|\n",
            "|   K|        2|\n",
            "|   K|        3|\n",
            "|   K|        4|\n",
            "|   K|       11|\n",
            "+----+---------+\n",
            "\n"
          ],
          "name": "stdout"
        }
      ]
    },
    {
      "cell_type": "code",
      "metadata": {
        "id": "qcat3lUP8q_m",
        "colab_type": "code",
        "colab": {}
      },
      "source": [
        "# partition the date by customer and order by the date diff, this is done so the rownums will be equal if they are consecutive\n",
        "window = Window.orderBy(\"date_diff\").partitionBy(\"cust\")\n"
      ],
      "execution_count": 0,
      "outputs": []
    },
    {
      "cell_type": "code",
      "metadata": {
        "id": "afQmbOd0GT4A",
        "colab_type": "code",
        "colab": {}
      },
      "source": [
        "# add this so you have the correct number of consecutive months, you could jsut add one to the row_num\n",
        "df = df.withColumn( \"consecutive_count\", F.count(df[\"date_diff\"]).over(window))"
      ],
      "execution_count": 0,
      "outputs": []
    },
    {
      "cell_type": "code",
      "metadata": {
        "id": "fZ2BGE87EG57",
        "colab_type": "code",
        "colab": {}
      },
      "source": [
        "# add the row_num so you can compare it to the date_diff\n",
        "df = df.withColumn(\"row_num\", F.row_number().over(window) - 1)"
      ],
      "execution_count": 0,
      "outputs": []
    },
    {
      "cell_type": "code",
      "metadata": {
        "id": "h1zsgHZJ6wvb",
        "colab_type": "code",
        "colab": {}
      },
      "source": [
        "# check if the date_diff == the row_num, if it does then the month is consecutive\n",
        "df = df.withColumn(\"good_flag\", F.when(df.date_diff == df.row_num, 1).otherwise(0))"
      ],
      "execution_count": 0,
      "outputs": []
    },
    {
      "cell_type": "code",
      "metadata": {
        "id": "IfH1_Y0wI8O-",
        "colab_type": "code",
        "outputId": "843cab24-8526-499d-bc6c-b436717241ad",
        "colab": {
          "base_uri": "https://localhost:8080/",
          "height": 374
        }
      },
      "source": [
        "df.show()"
      ],
      "execution_count": 0,
      "outputs": [
        {
          "output_type": "stream",
          "text": [
            "+----+---------+-----------------+-------+---------+\n",
            "|cust|date_diff|consecutive_count|row_num|good_flag|\n",
            "+----+---------+-----------------+-------+---------+\n",
            "|   K|        0|                1|      0|        1|\n",
            "|   K|        1|                2|      1|        1|\n",
            "|   K|        2|                3|      2|        1|\n",
            "|   K|        3|                4|      3|        1|\n",
            "|   K|        4|                5|      4|        1|\n",
            "|   K|       11|                6|      5|        0|\n",
            "|   B|        0|                1|      0|        1|\n",
            "|   B|        1|                2|      1|        1|\n",
            "|   D|        0|                1|      0|        1|\n",
            "|   D|        2|                2|      1|        0|\n",
            "|   D|        4|                3|      2|        0|\n",
            "|   C|        1|                1|      0|        0|\n",
            "|   C|        2|                2|      1|        0|\n",
            "|   A|        0|                1|      0|        1|\n",
            "|   A|        1|                2|      1|        1|\n",
            "|   A|        2|                3|      2|        1|\n",
            "+----+---------+-----------------+-------+---------+\n",
            "\n"
          ],
          "name": "stdout"
        }
      ]
    },
    {
      "cell_type": "code",
      "metadata": {
        "id": "2krBWCSCGsJ5",
        "colab_type": "code",
        "colab": {}
      },
      "source": [
        "# limit the date to only the months where the are consecutive, then get the max consecutive count for each customer\n",
        "df = df.filter(df.good_flag == 1).groupBy('cust').agg(F.max('consecutive_count').alias('max_streak'))"
      ],
      "execution_count": 0,
      "outputs": []
    },
    {
      "cell_type": "code",
      "metadata": {
        "id": "YHvn_X1m4RHd",
        "colab_type": "code",
        "outputId": "e4d0a959-0809-482e-e746-efe8e7fa22ff",
        "colab": {
          "base_uri": "https://localhost:8080/",
          "height": 170
        }
      },
      "source": [
        "df.show()"
      ],
      "execution_count": 0,
      "outputs": [
        {
          "output_type": "stream",
          "text": [
            "+----+----------+\n",
            "|cust|max_streak|\n",
            "+----+----------+\n",
            "|   K|         5|\n",
            "|   B|         2|\n",
            "|   D|         1|\n",
            "|   A|         3|\n",
            "+----+----------+\n",
            "\n"
          ],
          "name": "stdout"
        }
      ]
    },
    {
      "cell_type": "markdown",
      "metadata": {
        "id": "ed22gJa1ojfa",
        "colab_type": "text"
      },
      "source": [
        "# Convert it to a function\n",
        "\n",
        "The funciton can be run in a loop on a list of months, it does all the same stuff as above"
      ]
    },
    {
      "cell_type": "markdown",
      "metadata": {
        "id": "p6I9dB8opoVN",
        "colab_type": "text"
      },
      "source": [
        "## Create the sample dataframe"
      ]
    },
    {
      "cell_type": "code",
      "metadata": {
        "id": "0uRYK3_wKxDk",
        "colab_type": "code",
        "colab": {}
      },
      "source": [
        "d2 = spark.createDataFrame([('27-DEC-19','A',), \n",
        "                            ('15-DEC-19','A',),\n",
        "                            ('23-NOV-19','A',),\n",
        "                            ('15-OCT-19','A',),\n",
        "                            ('12-DEC-19','B',),\n",
        "                            ('07-DEC-19','B',),\n",
        "                            ('03-NOV-19','B',),\n",
        "                            ('15-NOV-19','B',),\n",
        "                            ('18-NOV-19','C',),\n",
        "                            ('18-OCT-19','C',),\n",
        "                            ('18-DEC-19','D',),\n",
        "                            ('18-OCT-19','D',),\n",
        "                            ('18-AUG-19','D',),\n",
        "                            ('23-DEC-19','K',),\n",
        "                            ('24-NOV-19','K',),\n",
        "                            ('06-OCT-19','K',),\n",
        "                            ('11-SEP-19','K',),\n",
        "                            ('13-AUG-19','K',),\n",
        "                            ('13-JAN-19','K',)\n",
        "                            ], ['LOGIN_STRING', 'cust'])"
      ],
      "execution_count": 0,
      "outputs": []
    },
    {
      "cell_type": "markdown",
      "metadata": {
        "id": "tojpNsiVps12",
        "colab_type": "text"
      },
      "source": [
        "## Convert the date"
      ]
    },
    {
      "cell_type": "code",
      "metadata": {
        "id": "ngPcbnNlMbCD",
        "colab_type": "code",
        "colab": {}
      },
      "source": [
        "d2 = d2.withColumn('LOGIN_DATE', F.to_date(d2.LOGIN_STRING, 'dd-MMM-yy'))"
      ],
      "execution_count": 0,
      "outputs": []
    },
    {
      "cell_type": "code",
      "metadata": {
        "id": "iiSxML7dMsmq",
        "colab_type": "code",
        "colab": {}
      },
      "source": [
        "d2 = d2.drop('LOGIN_STRING')"
      ],
      "execution_count": 0,
      "outputs": []
    },
    {
      "cell_type": "markdown",
      "metadata": {
        "id": "88lT_Yr6pxy6",
        "colab_type": "text"
      },
      "source": [
        "## Create the function that calculates the streak"
      ]
    },
    {
      "cell_type": "code",
      "metadata": {
        "id": "SmC3IYnNMD7R",
        "colab_type": "code",
        "colab": {}
      },
      "source": [
        "def get_login_streaks(df, last_day_of_month):\n",
        "\n",
        "  '''\n",
        "  Calculates the length of the consecutive login streak for customers\n",
        "\n",
        "  df -- the dataframe that has the login data for customers\n",
        "\n",
        "  last_day_of_month -- the final date of the final month of the login streak being calculated (e.g., \"2019-12-31\") \n",
        "\n",
        "  '''\n",
        "  df2 = df.withColumn('date_diff', floor(F.months_between( to_date(F.lit(last_day_of_month)), df.LOGIN_DATE)))\\\n",
        "          .filter(F.col('date_diff') >= 0)\\\n",
        "          .select('cust', 'date_diff').distinct().orderBy(*['cust', 'date_diff'])\\\n",
        "          .withColumn('row_num', F.row_number().over(Window.orderBy('date_diff').partitionBy('cust'))-1)\\\n",
        "          .withColumn( \"consecutive_count\", F.count('cust').over(Window.orderBy('date_diff').partitionBy('cust')))\\\n",
        "          .withColumn('good_flag', F.when(F.col('date_diff') == F.col('row_num'), 1).otherwise(0))\\\n",
        "          .filter(F.col('good_flag') == 1).groupBy('cust').agg(F.max('consecutive_count').alias('max_streak'))\n",
        "          # do a group by max_Streak and count customers\n",
        "          # send it toPandas()\n",
        "          # add logic to get the 2 and 3, if needed\n",
        "          # make it a row to append to a dataframe\n",
        "          # run in loop for dates\n",
        "  return df2\n",
        "\n"
      ],
      "execution_count": 0,
      "outputs": []
    },
    {
      "cell_type": "code",
      "metadata": {
        "id": "X5bj62nlP3fN",
        "colab_type": "code",
        "colab": {}
      },
      "source": [
        "tbl = get_login_streaks(d2, \"2019-12-31\")"
      ],
      "execution_count": 0,
      "outputs": []
    },
    {
      "cell_type": "code",
      "metadata": {
        "id": "VE9UgI_FQH6t",
        "colab_type": "code",
        "outputId": "55f46dca-a976-490f-e1dd-773b2f3b1c1d",
        "colab": {
          "base_uri": "https://localhost:8080/",
          "height": 170
        }
      },
      "source": [
        "tbl.show()"
      ],
      "execution_count": 0,
      "outputs": [
        {
          "output_type": "stream",
          "text": [
            "+----+----------+\n",
            "|cust|max_streak|\n",
            "+----+----------+\n",
            "|   K|         5|\n",
            "|   B|         2|\n",
            "|   D|         1|\n",
            "|   A|         3|\n",
            "+----+----------+\n",
            "\n"
          ],
          "name": "stdout"
        }
      ]
    },
    {
      "cell_type": "markdown",
      "metadata": {
        "id": "x8_5nm9arTF_",
        "colab_type": "text"
      },
      "source": [
        "## Scratch"
      ]
    },
    {
      "cell_type": "code",
      "metadata": {
        "id": "tXhB26HYQ20J",
        "colab_type": "code",
        "outputId": "74c4d788-35fe-462a-e144-89c30d541917",
        "colab": {
          "base_uri": "https://localhost:8080/",
          "height": 34
        }
      },
      "source": [
        "# confirm months_between is 1 for non-30 day months\n",
        "dfa = spark.createDataFrame([('2019-12-31', '2019-10-31')], ['t', 'd'])\n",
        "dfa.select(F.months_between(dfa.t, dfa.d).alias('months')).collect()"
      ],
      "execution_count": 0,
      "outputs": [
        {
          "output_type": "execute_result",
          "data": {
            "text/plain": [
              "[Row(months=2.0)]"
            ]
          },
          "metadata": {
            "tags": []
          },
          "execution_count": 28
        }
      ]
    },
    {
      "cell_type": "code",
      "metadata": {
        "id": "_9JRgP2OdvVP",
        "colab_type": "code",
        "outputId": "d4b9ad91-b81b-40d2-f314-5e61d5b3cc87",
        "colab": {
          "base_uri": "https://localhost:8080/",
          "height": 119
        }
      },
      "source": [
        "dfa.show()"
      ],
      "execution_count": 0,
      "outputs": [
        {
          "output_type": "stream",
          "text": [
            "+----------+----------+\n",
            "|         t|         d|\n",
            "+----------+----------+\n",
            "|2019-12-31|2019-10-31|\n",
            "+----------+----------+\n",
            "\n"
          ],
          "name": "stdout"
        }
      ]
    },
    {
      "cell_type": "code",
      "metadata": {
        "id": "QV5wLqhbd0oL",
        "colab_type": "code",
        "colab": {}
      },
      "source": [
        ""
      ],
      "execution_count": 0,
      "outputs": []
    }
  ]
}